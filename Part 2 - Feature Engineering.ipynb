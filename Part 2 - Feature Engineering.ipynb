{
 "cells": [
  {
   "cell_type": "code",
   "execution_count": 0,
   "metadata": {
    "application/vnd.databricks.v1+cell": {
     "cellMetadata": {
      "byteLimit": 2048000,
      "rowLimit": 10000
     },
     "inputWidgets": {},
     "nuid": "af2b4254-24ee-41aa-bd40-306c099019fc",
     "showTitle": false,
     "title": ""
    }
   },
   "outputs": [
    {
     "output_type": "execute_result",
     "data": {
      "text/plain": [
       "DataFrame[FL_DATE: date, OP_CARRIER: string, OP_CARRIER_FL_NUM: string, ORIGIN: string, DEST: string, DEP_DELAY: int, TAXI_OUT: int, TAXI_IN: int, ARR_DELAY: int, CANCELLED: boolean, DIVERTED: boolean, CRS_ELAPSED_TIME: int, ACTUAL_ELAPSED_TIME: int, AIR_TIME: int, DISTANCE: int, CARRIER_DELAY: int, WEATHER_DELAY: int, NAS_DELAY: int, SECURITY_DELAY: int, LATE_AIRCRAFT_DELAY: int, CRS_DEP_HOUR: int, CRS_DEP_MIN: int, DEP_HOUR: int, DEP_MIN: int, WHEELS_OFF_HOUR: int, WHEELS_OFF_MIN: int, WHEELS_ON_HOUR: int, WHEELS_ON_MIN: int, CRS_ARR_HOUR: int, CRS_ARR_MIN: int, ARR_HOUR: int, ARR_MIN: int]"
      ]
     },
     "execution_count": 24,
     "metadata": {},
     "output_type": "execute_result"
    }
   ],
   "source": [
    "# Import Libraries\n",
    "import pyspark.sql.functions as F\n",
    "from pyspark.sql import Window\n",
    "\n",
    "# Loading Data\n",
    "delays = spark.read.table(\"hive_metastore.default.tilinajay2\")\n",
    "delays"
   ]
  },
  {
   "cell_type": "markdown",
   "metadata": {
    "application/vnd.databricks.v1+cell": {
     "cellMetadata": {},
     "inputWidgets": {},
     "nuid": "85b24335-2b91-40f5-810a-52c03c261628",
     "showTitle": false,
     "title": ""
    }
   },
   "source": [
    "**Adding the day of the week (Monday through Sunday)**"
   ]
  },
  {
   "cell_type": "code",
   "execution_count": 0,
   "metadata": {
    "application/vnd.databricks.v1+cell": {
     "cellMetadata": {
      "byteLimit": 2048000,
      "rowLimit": 10000
     },
     "inputWidgets": {},
     "nuid": "92d745ae-0e99-4521-b861-cc063233c6da",
     "showTitle": false,
     "title": ""
    }
   },
   "outputs": [
    {
     "output_type": "stream",
     "name": "stdout",
     "output_type": "stream",
     "text": [
      "+----------+-----------+\n|   FL_DATE|DAY_OF_WEEK|\n+----------+-----------+\n|2009-01-01|   Thursday|\n|2009-01-01|   Thursday|\n|2009-01-01|   Thursday|\n|2009-01-01|   Thursday|\n|2009-01-01|   Thursday|\n|2009-01-01|   Thursday|\n|2009-01-01|   Thursday|\n|2009-01-01|   Thursday|\n|2009-01-01|   Thursday|\n|2009-01-01|   Thursday|\n|2009-01-01|   Thursday|\n|2009-01-01|   Thursday|\n|2009-01-01|   Thursday|\n|2009-01-01|   Thursday|\n|2009-01-01|   Thursday|\n|2009-01-01|   Thursday|\n|2009-01-01|   Thursday|\n|2009-01-01|   Thursday|\n|2009-01-01|   Thursday|\n|2009-01-01|   Thursday|\n+----------+-----------+\nonly showing top 20 rows\n\n"
     ]
    }
   ],
   "source": [
    "# Add a new column \"DAY_OF_WEEK\" to the 'delays' DataFrame\n",
    "# The new column is created by formatting the \"FL_DATE\" column to represent the day of the week\n",
    "delays = delays \\\n",
    "    .withColumn(\"DAY_OF_WEEK\", F.date_format(\"FL_DATE\", \"EEEE\"))\n",
    "\n",
    "delays.select(\"FL_DATE\", \"DAY_OF_WEEK\").show()"
   ]
  },
  {
   "cell_type": "markdown",
   "metadata": {
    "application/vnd.databricks.v1+cell": {
     "cellMetadata": {},
     "inputWidgets": {},
     "nuid": "9f7c20c3-3d4c-4364-8f59-defcb5d8e381",
     "showTitle": false,
     "title": ""
    }
   },
   "source": [
    "**Rate of weather delays at the departure airport in the previous hour**"
   ]
  },
  {
   "cell_type": "code",
   "execution_count": 0,
   "metadata": {
    "application/vnd.databricks.v1+cell": {
     "cellMetadata": {
      "byteLimit": 2048000,
      "rowLimit": 10000
     },
     "inputWidgets": {},
     "nuid": "d7c5a76b-dd96-4fd2-ad90-140b686fe625",
     "showTitle": false,
     "title": ""
    }
   },
   "outputs": [
    {
     "output_type": "stream",
     "name": "stdout",
     "output_type": "stream",
     "text": [
      "+------+----------+--------+-------+-----------------+-------------+----+\n|ORIGIN|   FL_DATE|DEP_HOUR|DEP_MIN|WEATHER_DELAY_SUM|TOTAL_FLIGHTS|RATE|\n+------+----------+--------+-------+-----------------+-------------+----+\n|   ABE|2009-01-24|      12|     10|                0|            0| 0.0|\n|   ABE|2009-01-24|      12|     30|                0|            1| 0.0|\n|   ABE|2009-01-24|      16|      5|                0|            0| 0.0|\n|   ABE|2009-01-24|      16|     53|                0|            1| 0.0|\n|   ABE|2009-01-24|      17|     29|                0|            1| 0.0|\n|   ABE|2009-01-25|      12|     12|                0|            0| 0.0|\n|   ABE|2009-01-25|      12|     33|                0|            1| 0.0|\n|   ABE|2009-01-25|      16|      6|                0|            0| 0.0|\n|   ABE|2009-01-25|      17|      3|                0|            1| 0.0|\n|   ABE|2009-01-25|      17|     25|                0|            1| 0.0|\n|   ABE|2009-01-25|      17|     43|                0|            2| 0.0|\n|   ABE|2009-01-30|      12|     12|                0|            0| 0.0|\n|   ABE|2009-01-30|      13|     43|                0|            0| 0.0|\n|   ABE|2009-01-30|      14|     27|                0|            1| 0.0|\n|   ABE|2009-01-30|      16|      5|                0|            0| 0.0|\n|   ABE|2009-01-30|      17|      9|                0|            0| 0.0|\n|   ABE|2009-01-30|      17|     28|                0|            1| 0.0|\n|   ABE|2009-01-30|      17|     34|                0|            2| 0.0|\n|   ABE|2009-02-08|      12|     12|                0|            0| 0.0|\n|   ABE|2009-02-08|      12|     30|                0|            1| 0.0|\n+------+----------+--------+-------+-----------------+-------------+----+\nonly showing top 20 rows\n\n"
     ]
    }
   ],
   "source": [
    "\n",
    "# Create a new column \"DEP_TIME\" in the 'delays' DataFrame\n",
    "# This column is calculated based on the sum of \"DEP_HOUR\" multiplied by 60 and \"DEP_MIN\"\n",
    "delays = delays.withColumn(\"DEP_TIME\", F.col(\"DEP_HOUR\") * 60 + F.col(\"DEP_MIN\"))\n",
    "\n",
    "# Define a window specification for aggregating weather delay information over a specific time range\n",
    "window_spec = Window \\\n",
    "    .partitionBy(\"ORIGIN\", \"FL_DATE\") \\\n",
    "    .orderBy(\"DEP_TIME\") \\\n",
    "    .rangeBetween(-60, -1)\n",
    "\n",
    "# Create a new DataFrame 'delays_departing' with additional columns for weather delay analysis\n",
    "delays_departing = delays \\\n",
    "    .withColumn(\"WEATHER_DELAY_BOOL\", F.when(F.col(\"WEATHER_DELAY\") >= 15, 1).otherwise(0)) \\\n",
    "    .withColumn(\"WEATHER_DELAY_SUM\", F.when(F.isnull(F.sum(\"WEATHER_DELAY_BOOL\").over(window_spec)), 0).otherwise(F.sum(\"WEATHER_DELAY_BOOL\").over(window_spec))) \\\n",
    "    .withColumn(\"TOTAL_FLIGHTS\", F.count(\"*\").over(window_spec)) \\\n",
    "    .withColumn(\"RATE\", (F.col(\"WEATHER_DELAY_SUM\") / F.col(\"TOTAL_FLIGHTS\"))) \\\n",
    "    .withColumn(\"RATE\", F.when(F.isnull(F.col(\"RATE\")), 0).otherwise(F.col(\"RATE\"))) \\\n",
    "    .drop_duplicates([\"ORIGIN\", \"FL_DATE\", \"DEP_HOUR\", \"DEP_MIN\"])\n",
    "\n",
    "# Select and display specific columns from the 'delays_departing' DataFrame\n",
    "delays_departing.select(\"ORIGIN\", \"FL_DATE\", \"DEP_HOUR\", \"DEP_MIN\", \"WEATHER_DELAY_SUM\", \"TOTAL_FLIGHTS\", \"RATE\")\n",
    "delays_departing.show()"
   ]
  },
  {
   "cell_type": "markdown",
   "metadata": {
    "application/vnd.databricks.v1+cell": {
     "cellMetadata": {},
     "inputWidgets": {},
     "nuid": "5f67b437-a0c1-4c29-b3b6-0a8057557cd3",
     "showTitle": false,
     "title": ""
    }
   },
   "source": [
    "**Rate of weather delays from the arrival airport in the previous hour**"
   ]
  },
  {
   "cell_type": "code",
   "execution_count": 0,
   "metadata": {
    "application/vnd.databricks.v1+cell": {
     "cellMetadata": {
      "byteLimit": 2048000,
      "rowLimit": 10000
     },
     "inputWidgets": {},
     "nuid": "f17e9482-2ea0-4ffb-a628-09166d593dc9",
     "showTitle": false,
     "title": ""
    }
   },
   "outputs": [
    {
     "output_type": "stream",
     "name": "stdout",
     "output_type": "stream",
     "text": [
      "+------+----------+--------+-------+-----------------+-------------+----+\n|ORIGIN|   FL_DATE|ARR_HOUR|ARR_MIN|WEATHER_DELAY_SUM|TOTAL_FLIGHTS|RATE|\n+------+----------+--------+-------+-----------------+-------------+----+\n|   ABE|2009-01-24|      13|     49|                0|            0| 0.0|\n|   ABE|2009-01-24|      14|      1|                0|            1| 0.0|\n|   ABE|2009-01-24|      17|     47|                0|            0| 0.0|\n|   ABE|2009-01-24|      18|     46|                0|            1| 0.0|\n|   ABE|2009-01-24|      19|     24|                0|            1| 0.0|\n|   ABE|2009-01-25|      14|      8|                0|            0| 0.0|\n|   ABE|2009-01-25|      14|     12|                0|            1| 0.0|\n|   ABE|2009-01-25|      17|     45|                0|            0| 0.0|\n|   ABE|2009-01-25|      18|     44|                0|            1| 0.0|\n|   ABE|2009-01-25|      19|      2|                0|            1| 0.0|\n|   ABE|2009-01-25|      19|     16|                0|            2| 0.0|\n|   ABE|2009-01-30|      13|     59|                0|            0| 0.0|\n|   ABE|2009-01-30|      15|     18|                0|            0| 0.0|\n|   ABE|2009-01-30|      15|     30|                0|            1| 0.0|\n|   ABE|2009-01-30|      17|     55|                0|            0| 0.0|\n|   ABE|2009-01-30|      18|     30|                0|            1| 0.0|\n|   ABE|2009-01-30|      18|     36|                0|            2| 0.0|\n|   ABE|2009-01-30|      19|     26|                0|            2| 0.0|\n|   ABE|2009-02-08|      13|     39|                0|            0| 0.0|\n|   ABE|2009-02-08|      14|      5|                0|            1| 0.0|\n+------+----------+--------+-------+-----------------+-------------+----+\nonly showing top 20 rows\n\n"
     ]
    }
   ],
   "source": [
    "# Create a new column \"ARR_TIME\" in the 'delays' DataFrame\n",
    "# This column is calculated based on the sum of \"ARR_HOUR\" multiplied by 60 and \"ARR_MIN\"\n",
    "delays = delays.withColumn(\"ARR_TIME\", F.col(\"ARR_HOUR\") * 60 + F.col(\"ARR_MIN\"))\n",
    "\n",
    "# Define a window specification for aggregating weather delay information over a specific time range\n",
    "window_spec = Window \\\n",
    "    .partitionBy(\"ORIGIN\", \"FL_DATE\") \\\n",
    "    .orderBy(\"ARR_TIME\") \\\n",
    "    .rangeBetween(-60, -1)\n",
    "\n",
    "# Create a new DataFrame 'delays_arriving' with additional columns for weather delay analysis\n",
    "delays_arriving = delays \\\n",
    "    .withColumn(\"WEATHER_DELAY_BOOL\", F.when(F.col(\"WEATHER_DELAY\") >= 15, 1).otherwise(0)) \\\n",
    "    .withColumn(\"WEATHER_DELAY_SUM\", F.when(F.isnull(F.sum(\"WEATHER_DELAY_BOOL\").over(window_spec)), 0).otherwise(F.sum(\"WEATHER_DELAY_BOOL\").over(window_spec))) \\\n",
    "    .withColumn(\"TOTAL_FLIGHTS\", F.count(\"*\").over(window_spec)) \\\n",
    "    .withColumn(\"RATE\", (F.col(\"WEATHER_DELAY_SUM\") / F.col(\"TOTAL_FLIGHTS\"))) \\\n",
    "    .withColumn(\"RATE\", F.when(F.isnull(F.col(\"RATE\")), 0).otherwise(F.col(\"RATE\"))) \\\n",
    "    .drop_duplicates([\"ORIGIN\", \"FL_DATE\", \"ARR_HOUR\", \"ARR_MIN\"])\n",
    "\n",
    "# Select and display specific columns from the 'delays_arriving' DataFrame\n",
    "delays_arriving.select(\"ORIGIN\", \"FL_DATE\", \"ARR_HOUR\", \"ARR_MIN\", \"WEATHER_DELAY_SUM\", \"TOTAL_FLIGHTS\", \"RATE\")\n",
    "delays_arriving.show()"
   ]
  },
  {
   "cell_type": "markdown",
   "metadata": {
    "application/vnd.databricks.v1+cell": {
     "cellMetadata": {},
     "inputWidgets": {},
     "nuid": "068587e3-318e-41d6-a0df-52f485d4ee8a",
     "showTitle": false,
     "title": ""
    }
   },
   "source": [
    "**Number of flights departing from the departure airport in the previous hour, compare the average number during this hour on the same day of the week, as a z score**"
   ]
  },
  {
   "cell_type": "code",
   "execution_count": 0,
   "metadata": {
    "application/vnd.databricks.v1+cell": {
     "cellMetadata": {
      "byteLimit": 2048000,
      "rowLimit": 10000
     },
     "inputWidgets": {},
     "nuid": "7d4c8a6a-9e64-461b-aa0e-c927c24a9132",
     "showTitle": false,
     "title": ""
    }
   },
   "outputs": [
    {
     "output_type": "stream",
     "name": "stdout",
     "output_type": "stream",
     "text": [
      "+------+----------+--------+-------+-----------+-------+\n|ORIGIN|   FL_DATE|DEP_HOUR|DEP_MIN|DAY_OF_WEEK|z_score|\n+------+----------+--------+-------+-----------+-------+\n|   ABI|2009-03-05|      10|      1|   Thursday|    0.0|\n|   ABI|2015-12-24|      10|      3|   Thursday|    0.0|\n|   ABI|2015-08-06|      10|      3|   Thursday|    0.0|\n|   ABI|2015-04-09|      10|      3|   Thursday|    0.0|\n|   ABI|2009-02-12|      10|      4|   Thursday|    0.0|\n|   ABI|2015-10-08|      10|      4|   Thursday|    0.0|\n|   ABI|2015-11-12|      10|      4|   Thursday|    0.0|\n|   ABI|2015-05-28|      10|      5|   Thursday|    0.0|\n|   ABI|2009-02-26|      10|      5|   Thursday|    0.0|\n|   ABI|2015-09-17|      10|      5|   Thursday|    0.0|\n|   ABI|2015-07-02|      10|      6|   Thursday|    0.0|\n|   ABI|2015-11-05|      10|      6|   Thursday|    0.0|\n|   ABI|2015-09-10|      10|      6|   Thursday|    0.0|\n|   ABI|2015-04-02|      10|      6|   Thursday|    0.0|\n|   ABI|2009-03-12|      10|      6|   Thursday|    0.0|\n|   ABI|2015-10-15|      10|      6|   Thursday|    0.0|\n|   ABI|2015-10-01|      10|      7|   Thursday|    0.0|\n|   ABI|2012-12-27|      10|      7|   Thursday|    0.0|\n|   ABI|2015-06-25|      10|      7|   Thursday|    0.0|\n|   ABI|2015-12-03|      10|      7|   Thursday|    0.0|\n+------+----------+--------+-------+-----------+-------+\nonly showing top 20 rows\n\n"
     ]
    }
   ],
   "source": [
    "# Define a window specification for aggregating flight count over a specific time range\n",
    "window_spec = Window \\\n",
    "    .partitionBy(\"ORIGIN\", \"FL_DATE\") \\\n",
    "    .orderBy(\"DEP_TIME\") \\\n",
    "    .rangeBetween(-60, -1)\n",
    "\n",
    "# Define another window specification for aggregating flight count over a specific time range and by day of the week\n",
    "window_spec_day_of_week = Window \\\n",
    "    .partitionBy(\"ORIGIN\", \"DAY_OF_WEEK\") \\\n",
    "    .orderBy(\"DEP_TIME\") \\\n",
    "    .rangeBetween(-60, -1)\n",
    "\n",
    "# Create a new DataFrame 'delays_with_flight_count' with an additional column for flight count in the previous hour\n",
    "delays_with_flight_count = delays \\\n",
    "    .withColumn(\"FLIGHT_COUNT_PREV_HR\", F.count(\"*\").over(window_spec)) \\\n",
    "    .withColumn(\"FLIGHT_COUNT_PREV_HR\", F.when(F.isnull(\"FLIGHT_COUNT_PREV_HR\"), 0).otherwise(F.col(\"FLIGHT_COUNT_PREV_HR\")))\n",
    "\n",
    "# Calculate the average flight count in the previous hour by day of the week\n",
    "avg_flight_count_by_day_of_week = delays_with_flight_count \\\n",
    "    .withColumn(\"AVG_FLIGHT_COUNT_PREV_HR_DAY_OF_WEEK\", F.avg(\"FLIGHT_COUNT_PREV_HR\").over(window_spec_day_of_week)) \\\n",
    "    .withColumn(\"AVG_FLIGHT_COUNT_PREV_HR_DAY_OF_WEEK\", F.when(F.isnull(\"AVG_FLIGHT_COUNT_PREV_HR_DAY_OF_WEEK\"), 0).otherwise(F.col(\"AVG_FLIGHT_COUNT_PREV_HR_DAY_OF_WEEK\")))\n",
    "\n",
    "# Calculate the standard deviation of flight count in the previous hour by day of the week\n",
    "sd_flight_count_by_day_of_week = avg_flight_count_by_day_of_week \\\n",
    "    .withColumn(\"sd\", F.stddev(\"FLIGHT_COUNT_PREV_HR\").over(window_spec_day_of_week)) \\\n",
    "    .fillna(0)\n",
    "\n",
    "# Calculate the Z-score for flight count in the previous hour by day of the week\n",
    "delays_zscore = sd_flight_count_by_day_of_week \\\n",
    "    .withColumn(\"z_score\", (F.col(\"FLIGHT_COUNT_PREV_HR\") - F.col(\"AVG_FLIGHT_COUNT_PREV_HR_DAY_OF_WEEK\")) / F.col(\"sd\")) \\\n",
    "    .fillna(0)\n",
    "\n",
    "# Select and display specific columns from the 'delays_zscore' DataFrame\n",
    "delays_zscore.select(\"ORIGIN\", \"FL_DATE\", \"DEP_HOUR\", \"DEP_MIN\", \"DAY_OF_WEEK\", \"z_score\").show()"
   ]
  },
  {
   "cell_type": "markdown",
   "metadata": {
    "application/vnd.databricks.v1+cell": {
     "cellMetadata": {},
     "inputWidgets": {},
     "nuid": "df5d1fc8-303a-4ecf-bfa5-37263f711bae",
     "showTitle": false,
     "title": ""
    }
   },
   "source": [
    "**Calculating the average speed of the flight by dividing the distance of the flight by the elapsed time**"
   ]
  },
  {
   "cell_type": "code",
   "execution_count": 0,
   "metadata": {
    "application/vnd.databricks.v1+cell": {
     "cellMetadata": {
      "byteLimit": 2048000,
      "rowLimit": 10000
     },
     "inputWidgets": {},
     "nuid": "1a44940e-dc1c-42cd-b0f4-9006135a595a",
     "showTitle": false,
     "title": ""
    }
   },
   "outputs": [
    {
     "output_type": "stream",
     "name": "stdout",
     "output_type": "stream",
     "text": [
      "+----------+------+------------------+--------+-------------------+\n|   FL_DATE|ORIGIN|     AVERAGE_SPEED|DISTANCE|ACTUAL_ELAPSED_TIME|\n+----------+------+------------------+--------+-------------------+\n|2009-01-01|   DCA| 2.926470588235294|     199|                 68|\n|2009-01-01|   EWR|              2.84|     213|                 75|\n|2009-01-01|   EWR|3.2096774193548385|     199|                 62|\n|2009-01-01|   DCA|3.5535714285714284|     199|                 56|\n|2009-01-01|   IAD|2.7662337662337664|     213|                 77|\n|2009-01-01|   ATL| 5.730769230769231|     745|                130|\n|2009-01-01|   CLE|  5.12962962962963|     554|                108|\n|2009-01-01|   DCA| 2.518987341772152|     199|                 79|\n|2009-01-01|   EWR|2.7260273972602738|     199|                 73|\n|2009-01-01|   EWR| 3.262295081967213|     199|                 61|\n|2009-01-01|   DCA|3.2096774193548385|     199|                 62|\n|2009-01-01|   EWR|          3.109375|     199|                 64|\n|2009-01-01|   CLE| 4.696969696969697|     310|                 66|\n|2009-01-01|   DCA| 3.685185185185185|     199|                 54|\n|2009-01-01|   EWR|  4.76158940397351|     719|                151|\n|2009-01-01|   ORD|6.4774774774774775|     719|                111|\n|2009-01-01|   EWR| 4.993055555555555|     719|                144|\n|2009-01-01|   ORD| 5.063380281690141|     719|                142|\n|2009-01-01|   EWR| 4.793333333333333|     719|                150|\n|2009-01-01|   LFT|3.5892857142857144|     201|                 56|\n+----------+------+------------------+--------+-------------------+\nonly showing top 20 rows\n\n"
     ]
    }
   ],
   "source": [
    "# Calculate the average speed by creating a new column \"AVERAGE_SPEED\"\n",
    "# This is computed by dividing the \"DISTANCE\" column by the \"ACTUAL_ELAPSED_TIME\" column\n",
    "delays = delays \\\n",
    "    .withColumn(\"AVERAGE_SPEED\", F.col(\"DISTANCE\") / F.col(\"ACTUAL_ELAPSED_TIME\"))\n",
    "\n",
    "# Select specific columns including \"FL_DATE\", \"ORIGIN\", \"AVERAGE_SPEED\", \"DISTANCE\", and \"ACTUAL_ELAPSED_TIME\"\n",
    "delays.select(\"FL_DATE\", \"ORIGIN\", \"AVERAGE_SPEED\", \"DISTANCE\", \"ACTUAL_ELAPSED_TIME\").show()"
   ]
  },
  {
   "cell_type": "markdown",
   "metadata": {
    "application/vnd.databricks.v1+cell": {
     "cellMetadata": {},
     "inputWidgets": {},
     "nuid": "731fceeb-85ff-431f-837e-1f5abc2f915d",
     "showTitle": false,
     "title": ""
    }
   },
   "source": [
    "**Number of courrier flights delayed by the seasons (so we know how the courrier respond to the temperature by seasons)**"
   ]
  },
  {
   "cell_type": "code",
   "execution_count": 0,
   "metadata": {
    "application/vnd.databricks.v1+cell": {
     "cellMetadata": {
      "byteLimit": 2048000,
      "rowLimit": 10000
     },
     "inputWidgets": {},
     "nuid": "36e25617-d444-463b-9acb-81f1d4f647ef",
     "showTitle": false,
     "title": ""
    }
   },
   "outputs": [
    {
     "output_type": "stream",
     "name": "stdout",
     "output_type": "stream",
     "text": [
      "+----+----------+-----------------------------+\n| SZN|OP_CARRIER|total_carrier_delayed_flights|\n+----+----------+-----------------------------+\n|fall|        9E|                         6838|\n|fall|        AA|                        72513|\n|fall|        AS|                         9051|\n|fall|        B6|                        28244|\n|fall|        CO|                         4995|\n|fall|        DL|                        51890|\n|fall|        EV|                        49283|\n|fall|        F9|                         7509|\n|fall|        FL|                         5718|\n|fall|        G4|                          897|\n|fall|        HA|                         5274|\n|fall|        MQ|                        23909|\n|fall|        NK|                         3101|\n|fall|        NW|                         2022|\n|fall|        OH|                         5631|\n|fall|        OO|                        39981|\n|fall|        UA|                        41572|\n|fall|        US|                        17144|\n|fall|        VX|                         2287|\n|fall|        WN|                        97636|\n+----+----------+-----------------------------+\nonly showing top 20 rows\n\n"
     ]
    }
   ],
   "source": [
    "# Create a new column \"MONTH\" in the 'delays' DataFrame, extracting the month from \"FL_DATE\"\n",
    "# Create another column \"SZN\" indicating the season based on the month\n",
    "delays = delays.withColumn(\"MONTH\", F.month(\"FL_DATE\")) \\\n",
    "    .withColumn(\"SZN\", \n",
    "                F.when((F.col(\"MONTH\") == 12) | (F.col(\"MONTH\") == 1) | (F.col(\"MONTH\") == 2), \"winter\")\n",
    "                .when((F.col(\"MONTH\") == 3) | (F.col(\"MONTH\") == 4) | (F.col(\"MONTH\") == 5), \"spring\")\n",
    "                .when((F.col(\"MONTH\") == 6) | (F.col(\"MONTH\") == 7) | (F.col(\"MONTH\") == 8), \"summer\")\n",
    "                .otherwise(\"fall\"))\n",
    "\n",
    "# Filter the 'delays' DataFrame to include only flights with carrier delays of 15 minutes or more\n",
    "delayed_flights = delays.filter(F.col(\"CARRIER_DELAY\") >= 15)\n",
    "\n",
    "# Group the delayed flights by season and carrier, and calculate the total count of delayed flights\n",
    "delayed_flights_count = delayed_flights.groupby(\"SZN\", \"OP_CARRIER\") \\\n",
    "    .agg(F.count(\"*\").alias(\"total_carrier_delayed_flights\")) \\\n",
    "    .orderBy(\"SZN\", \"OP_CARRIER\")\n",
    "\n",
    "# Display the resulting DataFrame showing the total count of carrier delayed flights for each season and carrier\n",
    "delayed_flights_count.show()"
   ]
  }
 ],
 "metadata": {
  "application/vnd.databricks.v1+notebook": {
   "dashboards": [],
   "language": "python",
   "notebookMetadata": {
    "pythonIndentUnit": 4
   },
   "notebookName": "Part 2: Feature Engineering",
   "widgets": {}
  }
 },
 "nbformat": 4,
 "nbformat_minor": 0
}
